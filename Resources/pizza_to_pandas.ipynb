{
 "metadata": {
  "language_info": {
   "codemirror_mode": {
    "name": "ipython",
    "version": 3
   },
   "file_extension": ".py",
   "mimetype": "text/x-python",
   "name": "python",
   "nbconvert_exporter": "python",
   "pygments_lexer": "ipython3",
   "version": "3.7.6-final"
  },
  "orig_nbformat": 2,
  "kernelspec": {
   "name": "python37664bitbaseconda03ca6abf4a2a4518b9cbc3190b562464",
   "display_name": "Python 3.7.6 64-bit ('base': conda)"
  }
 },
 "nbformat": 4,
 "nbformat_minor": 2,
 "cells": [
  {
   "cell_type": "code",
   "execution_count": 9,
   "metadata": {},
   "outputs": [],
   "source": [
    "import pandas as pd"
   ]
  },
  {
   "cell_type": "code",
   "execution_count": 10,
   "metadata": {},
   "outputs": [],
   "source": [
    "pizza=pd.read_csv(\"Datafiniti_Pizza_Restaurants_and_the_Pizza_They_Sell_May19.csv\")"
   ]
  },
  {
   "cell_type": "code",
   "execution_count": 11,
   "metadata": {},
   "outputs": [],
   "source": [
    "pizza_df=pd.DataFrame(pizza)"
   ]
  },
  {
   "cell_type": "code",
   "execution_count": 12,
   "metadata": {},
   "outputs": [
    {
     "output_type": "execute_result",
     "data": {
      "text/plain": "                 dateAdded           dateUpdated                address  \\\n0     2017-06-30T05:05:40Z  2019-05-01T15:43:09Z       4203 E Kiehl Ave   \n1     2016-04-02T04:02:49Z  2019-05-01T15:27:50Z      25 E Camelback Rd   \n2     2016-03-03T18:39:49Z  2019-05-01T12:52:25Z        3703 Paxton Ave   \n3     2016-03-29T05:08:59Z  2019-05-01T12:52:20Z        30495 John R Rd   \n4     2016-03-31T02:34:04Z  2019-05-01T12:50:45Z       3600 Eastern Ave   \n...                    ...                   ...                    ...   \n9995  2016-03-21T00:12:46Z  2018-01-08T10:25:27Z      1126 E Lovejoy St   \n9996  2016-03-21T00:12:46Z  2018-01-08T10:25:27Z      1126 E Lovejoy St   \n9997  2017-06-30T19:56:11Z  2018-01-07T10:51:29Z         3641 E Main St   \n9998  2017-06-30T19:56:11Z  2018-01-07T10:51:29Z         3641 E Main St   \n9999  2015-10-23T01:57:27Z  2018-01-04T17:57:59Z  7460 W Lake Mead Blvd   \n\n                 city province postalCode  \\\n0            Sherwood       AR      72120   \n1             Phoenix       AZ      85012   \n2          Cincinnati       OH      45209   \n3     Madison Heights       MI      48071   \n4           Baltimore       MD      21224   \n...               ...      ...        ...   \n9995          Buffalo       NY      14206   \n9996          Buffalo       NY      14206   \n9997    Saint Charles       IL      60174   \n9998    Saint Charles       IL      60174   \n9999        Las Vegas       NV      89128   \n\n                                              keys   latitude   longitude  \\\n0         us/ar/sherwood/4203ekiehlave/-1051391616  34.832300  -92.183800   \n1          us/az/phoenix/25ecamelbackrd/-727422936  33.509266 -112.073044   \n2        us/oh/cincinnati/3703paxtonave/-619797122  39.144883  -84.432685   \n3     us/mi/madisonheights/30495johnrrd/-874863116  42.516669  -83.106630   \n4       us/md/baltimore/3600easternave/-1270965359  39.286630  -76.566984   \n...                                            ...        ...         ...   \n9995       us/ny/buffalo/1126elovejoyst/1921210585  42.889759  -78.806747   \n9996       us/ny/buffalo/1126elovejoyst/1921210585  42.889759  -78.806747   \n9997     us/il/saintcharles/3641emainst/1336179832  41.921300  -88.275300   \n9998     us/il/saintcharles/3641emainst/1336179832  41.921300  -88.275300   \n9999    us/nv/lasvegas/7460wlakemeadblvd/330000776  36.196180 -115.256240   \n\n                  primaryCategories  \\\n0     Accommodation & Food Services   \n1     Accommodation & Food Services   \n2     Accommodation & Food Services   \n3     Accommodation & Food Services   \n4     Accommodation & Food Services   \n...                             ...   \n9995  Accommodation & Food Services   \n9996  Accommodation & Food Services   \n9997  Accommodation & Food Services   \n9998  Accommodation & Food Services   \n9999  Accommodation & Food Services   \n\n                                            menuPageURL  menus.amountMax  \\\n0     http://www.citysearch.com/profile/menu/1550074...             7.98   \n1                                                   NaN             6.00   \n2     http://www.citysearch.com/profile/menu/8160503...             6.49   \n3                                                   NaN             5.99   \n4                                                   NaN             5.49   \n...                                                 ...              ...   \n9995                                                NaN            37.10   \n9996                                                NaN            10.10   \n9997  http://www.citysearch.com/profile/menu/3773628...             8.45   \n9998  http://www.citysearch.com/profile/menu/3773628...             8.45   \n9999    http://www.singlepage.com/round-table-pizza-234             8.79   \n\n      menus.amountMin                                  menus.description  \\\n0                7.98                                                NaN   \n1                6.00                                                NaN   \n2                6.49  a saucelessampcomma double cheese pizza with a...   \n3                5.99                                                NaN   \n4                5.49                                                NaN   \n...               ...                                                ...   \n9995             7.10                                                NaN   \n9996            10.10                                                NaN   \n9997             8.45                                                NaN   \n9998             8.45                                                NaN   \n9999             8.79                                                NaN   \n\n                                           menus.name                 name  \\\n0                                        Cheese Pizza   Shotgun Dans Pizza   \n1                                        Pizza Cookie     Sauce Pizza Wine   \n2                                        Pizza Blanca        Mios Pizzeria   \n3                                         Small Pizza  Hungry Howies Pizza   \n4                                           Pizza Sub     Spartan Pizzeria   \n...                                               ...                  ...   \n9995                                Super Steak Pizza   Carbone's Pizzeria   \n9996                      Large Cheese & 1 Item Pizza   Carbone's Pizzeria   \n9997  Individual 6\" Pepperoni Stuffed Deep Dish Pizza     Giordano's Pizza   \n9998     Individual 6\" Cheese Stuffed Deep Dish Pizza     Giordano's Pizza   \n9999                      King Arthur's Supreme Pizza    Round Table Pizza   \n\n      priceRangeMin  priceRangeMax  \n0                 0             25  \n1                 0             25  \n2                 0             25  \n3                25             40  \n4                 0             25  \n...             ...            ...  \n9995              0             25  \n9996              0             25  \n9997              0             25  \n9998              0             25  \n9999              0             25  \n\n[10000 rows x 18 columns]",
      "text/html": "<div>\n<style scoped>\n    .dataframe tbody tr th:only-of-type {\n        vertical-align: middle;\n    }\n\n    .dataframe tbody tr th {\n        vertical-align: top;\n    }\n\n    .dataframe thead th {\n        text-align: right;\n    }\n</style>\n<table border=\"1\" class=\"dataframe\">\n  <thead>\n    <tr style=\"text-align: right;\">\n      <th></th>\n      <th>dateAdded</th>\n      <th>dateUpdated</th>\n      <th>address</th>\n      <th>city</th>\n      <th>province</th>\n      <th>postalCode</th>\n      <th>keys</th>\n      <th>latitude</th>\n      <th>longitude</th>\n      <th>primaryCategories</th>\n      <th>menuPageURL</th>\n      <th>menus.amountMax</th>\n      <th>menus.amountMin</th>\n      <th>menus.description</th>\n      <th>menus.name</th>\n      <th>name</th>\n      <th>priceRangeMin</th>\n      <th>priceRangeMax</th>\n    </tr>\n  </thead>\n  <tbody>\n    <tr>\n      <th>0</th>\n      <td>2017-06-30T05:05:40Z</td>\n      <td>2019-05-01T15:43:09Z</td>\n      <td>4203 E Kiehl Ave</td>\n      <td>Sherwood</td>\n      <td>AR</td>\n      <td>72120</td>\n      <td>us/ar/sherwood/4203ekiehlave/-1051391616</td>\n      <td>34.832300</td>\n      <td>-92.183800</td>\n      <td>Accommodation &amp; Food Services</td>\n      <td>http://www.citysearch.com/profile/menu/1550074...</td>\n      <td>7.98</td>\n      <td>7.98</td>\n      <td>NaN</td>\n      <td>Cheese Pizza</td>\n      <td>Shotgun Dans Pizza</td>\n      <td>0</td>\n      <td>25</td>\n    </tr>\n    <tr>\n      <th>1</th>\n      <td>2016-04-02T04:02:49Z</td>\n      <td>2019-05-01T15:27:50Z</td>\n      <td>25 E Camelback Rd</td>\n      <td>Phoenix</td>\n      <td>AZ</td>\n      <td>85012</td>\n      <td>us/az/phoenix/25ecamelbackrd/-727422936</td>\n      <td>33.509266</td>\n      <td>-112.073044</td>\n      <td>Accommodation &amp; Food Services</td>\n      <td>NaN</td>\n      <td>6.00</td>\n      <td>6.00</td>\n      <td>NaN</td>\n      <td>Pizza Cookie</td>\n      <td>Sauce Pizza Wine</td>\n      <td>0</td>\n      <td>25</td>\n    </tr>\n    <tr>\n      <th>2</th>\n      <td>2016-03-03T18:39:49Z</td>\n      <td>2019-05-01T12:52:25Z</td>\n      <td>3703 Paxton Ave</td>\n      <td>Cincinnati</td>\n      <td>OH</td>\n      <td>45209</td>\n      <td>us/oh/cincinnati/3703paxtonave/-619797122</td>\n      <td>39.144883</td>\n      <td>-84.432685</td>\n      <td>Accommodation &amp; Food Services</td>\n      <td>http://www.citysearch.com/profile/menu/8160503...</td>\n      <td>6.49</td>\n      <td>6.49</td>\n      <td>a saucelessampcomma double cheese pizza with a...</td>\n      <td>Pizza Blanca</td>\n      <td>Mios Pizzeria</td>\n      <td>0</td>\n      <td>25</td>\n    </tr>\n    <tr>\n      <th>3</th>\n      <td>2016-03-29T05:08:59Z</td>\n      <td>2019-05-01T12:52:20Z</td>\n      <td>30495 John R Rd</td>\n      <td>Madison Heights</td>\n      <td>MI</td>\n      <td>48071</td>\n      <td>us/mi/madisonheights/30495johnrrd/-874863116</td>\n      <td>42.516669</td>\n      <td>-83.106630</td>\n      <td>Accommodation &amp; Food Services</td>\n      <td>NaN</td>\n      <td>5.99</td>\n      <td>5.99</td>\n      <td>NaN</td>\n      <td>Small Pizza</td>\n      <td>Hungry Howies Pizza</td>\n      <td>25</td>\n      <td>40</td>\n    </tr>\n    <tr>\n      <th>4</th>\n      <td>2016-03-31T02:34:04Z</td>\n      <td>2019-05-01T12:50:45Z</td>\n      <td>3600 Eastern Ave</td>\n      <td>Baltimore</td>\n      <td>MD</td>\n      <td>21224</td>\n      <td>us/md/baltimore/3600easternave/-1270965359</td>\n      <td>39.286630</td>\n      <td>-76.566984</td>\n      <td>Accommodation &amp; Food Services</td>\n      <td>NaN</td>\n      <td>5.49</td>\n      <td>5.49</td>\n      <td>NaN</td>\n      <td>Pizza Sub</td>\n      <td>Spartan Pizzeria</td>\n      <td>0</td>\n      <td>25</td>\n    </tr>\n    <tr>\n      <th>...</th>\n      <td>...</td>\n      <td>...</td>\n      <td>...</td>\n      <td>...</td>\n      <td>...</td>\n      <td>...</td>\n      <td>...</td>\n      <td>...</td>\n      <td>...</td>\n      <td>...</td>\n      <td>...</td>\n      <td>...</td>\n      <td>...</td>\n      <td>...</td>\n      <td>...</td>\n      <td>...</td>\n      <td>...</td>\n      <td>...</td>\n    </tr>\n    <tr>\n      <th>9995</th>\n      <td>2016-03-21T00:12:46Z</td>\n      <td>2018-01-08T10:25:27Z</td>\n      <td>1126 E Lovejoy St</td>\n      <td>Buffalo</td>\n      <td>NY</td>\n      <td>14206</td>\n      <td>us/ny/buffalo/1126elovejoyst/1921210585</td>\n      <td>42.889759</td>\n      <td>-78.806747</td>\n      <td>Accommodation &amp; Food Services</td>\n      <td>NaN</td>\n      <td>37.10</td>\n      <td>7.10</td>\n      <td>NaN</td>\n      <td>Super Steak Pizza</td>\n      <td>Carbone's Pizzeria</td>\n      <td>0</td>\n      <td>25</td>\n    </tr>\n    <tr>\n      <th>9996</th>\n      <td>2016-03-21T00:12:46Z</td>\n      <td>2018-01-08T10:25:27Z</td>\n      <td>1126 E Lovejoy St</td>\n      <td>Buffalo</td>\n      <td>NY</td>\n      <td>14206</td>\n      <td>us/ny/buffalo/1126elovejoyst/1921210585</td>\n      <td>42.889759</td>\n      <td>-78.806747</td>\n      <td>Accommodation &amp; Food Services</td>\n      <td>NaN</td>\n      <td>10.10</td>\n      <td>10.10</td>\n      <td>NaN</td>\n      <td>Large Cheese &amp; 1 Item Pizza</td>\n      <td>Carbone's Pizzeria</td>\n      <td>0</td>\n      <td>25</td>\n    </tr>\n    <tr>\n      <th>9997</th>\n      <td>2017-06-30T19:56:11Z</td>\n      <td>2018-01-07T10:51:29Z</td>\n      <td>3641 E Main St</td>\n      <td>Saint Charles</td>\n      <td>IL</td>\n      <td>60174</td>\n      <td>us/il/saintcharles/3641emainst/1336179832</td>\n      <td>41.921300</td>\n      <td>-88.275300</td>\n      <td>Accommodation &amp; Food Services</td>\n      <td>http://www.citysearch.com/profile/menu/3773628...</td>\n      <td>8.45</td>\n      <td>8.45</td>\n      <td>NaN</td>\n      <td>Individual 6\" Pepperoni Stuffed Deep Dish Pizza</td>\n      <td>Giordano's Pizza</td>\n      <td>0</td>\n      <td>25</td>\n    </tr>\n    <tr>\n      <th>9998</th>\n      <td>2017-06-30T19:56:11Z</td>\n      <td>2018-01-07T10:51:29Z</td>\n      <td>3641 E Main St</td>\n      <td>Saint Charles</td>\n      <td>IL</td>\n      <td>60174</td>\n      <td>us/il/saintcharles/3641emainst/1336179832</td>\n      <td>41.921300</td>\n      <td>-88.275300</td>\n      <td>Accommodation &amp; Food Services</td>\n      <td>http://www.citysearch.com/profile/menu/3773628...</td>\n      <td>8.45</td>\n      <td>8.45</td>\n      <td>NaN</td>\n      <td>Individual 6\" Cheese Stuffed Deep Dish Pizza</td>\n      <td>Giordano's Pizza</td>\n      <td>0</td>\n      <td>25</td>\n    </tr>\n    <tr>\n      <th>9999</th>\n      <td>2015-10-23T01:57:27Z</td>\n      <td>2018-01-04T17:57:59Z</td>\n      <td>7460 W Lake Mead Blvd</td>\n      <td>Las Vegas</td>\n      <td>NV</td>\n      <td>89128</td>\n      <td>us/nv/lasvegas/7460wlakemeadblvd/330000776</td>\n      <td>36.196180</td>\n      <td>-115.256240</td>\n      <td>Accommodation &amp; Food Services</td>\n      <td>http://www.singlepage.com/round-table-pizza-234</td>\n      <td>8.79</td>\n      <td>8.79</td>\n      <td>NaN</td>\n      <td>King Arthur's Supreme Pizza</td>\n      <td>Round Table Pizza</td>\n      <td>0</td>\n      <td>25</td>\n    </tr>\n  </tbody>\n</table>\n<p>10000 rows × 18 columns</p>\n</div>"
     },
     "metadata": {},
     "execution_count": 12
    }
   ],
   "source": [
    "pizza_df"
   ]
  },
  {
   "cell_type": "code",
   "execution_count": null,
   "metadata": {},
   "outputs": [],
   "source": []
  }
 ]
}